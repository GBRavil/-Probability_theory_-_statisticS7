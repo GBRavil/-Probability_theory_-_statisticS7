{
 "cells": [
  {
   "cell_type": "code",
   "execution_count": 1,
   "id": "02e0fd19",
   "metadata": {},
   "outputs": [],
   "source": [
    "import numpy as np\n",
    "import scipy.stats as stats"
   ]
  },
  {
   "cell_type": "code",
   "execution_count": 2,
   "id": "8e518e2b",
   "metadata": {},
   "outputs": [
    {
     "data": {
      "text/plain": [
       "(2.5279999999999996, 0.1572542173961923)"
      ]
     },
     "execution_count": 2,
     "metadata": {},
     "output_type": "execute_result"
    }
   ],
   "source": [
    "# Соствим гипотезы\n",
    "# H0:M = 2.5\n",
    "# H1:M ≠ 2.5\n",
    "weights = np.array([2.51, 2.35, 2.74, 2.56, 2.40, 2.36, 2.65, 2.7, 2.67, 2.34])\n",
    "n = 10\n",
    "mean = weights.mean()\n",
    "std = weights.std(ddof=1)\n",
    "mean, std"
   ]
  },
  {
   "cell_type": "code",
   "execution_count": 3,
   "id": "54ea99f9",
   "metadata": {},
   "outputs": [
    {
     "data": {
      "text/plain": [
       "0.5630613661802959"
      ]
     },
     "execution_count": 3,
     "metadata": {},
     "output_type": "execute_result"
    }
   ],
   "source": [
    "# Поскольку мы проверяем гипотезу относительно математического ожидания нормально распределённой случайной величины \n",
    "# с неизвестной дисперсией, будем использовать статистику:\n",
    "t = (mean-2.5)/(std/np.sqrt(n)) # t- наблюдаемое\n",
    "t"
   ]
  },
  {
   "cell_type": "code",
   "execution_count": null,
   "id": "98a2f7a5",
   "metadata": {},
   "outputs": [],
   "source": [
    "# Доверительная вероятность 0.05, число степеней свободы = n - 1 = 9 \n",
    "# по таблице Стьюдента находим критическое:\n",
    "# t1 = 0.064\n",
    "# t2 = -0.064\n",
    "# Значение t попадает в критическую область, таким образом, гипотезу H1 не отвергаем,\n",
    "# партия изготавливается со средним арифметическим ≠ 2.5"
   ]
  }
 ],
 "metadata": {
  "kernelspec": {
   "display_name": "Python 3 (ipykernel)",
   "language": "python",
   "name": "python3"
  },
  "language_info": {
   "codemirror_mode": {
    "name": "ipython",
    "version": 3
   },
   "file_extension": ".py",
   "mimetype": "text/x-python",
   "name": "python",
   "nbconvert_exporter": "python",
   "pygments_lexer": "ipython3",
   "version": "3.9.13"
  }
 },
 "nbformat": 4,
 "nbformat_minor": 5
}
